{
 "cells": [
  {
   "attachments": {},
   "cell_type": "markdown",
   "metadata": {},
   "source": [
    "### Time-Domain Features\n",
    "\n",
    "- Amplitude envelope (AE)\n",
    "- Root-Mean-Square Energy (RMS)\n",
    "- Zero-Crossing Rate (ZCR), etc."
   ]
  },
  {
   "attachments": {},
   "cell_type": "markdown",
   "metadata": {},
   "source": [
    "### Time-Domain Features: Amplitude Envelope (AE)\n",
    "\n",
    "- Max amplitude value of all samples in a frame\n",
    "\n",
    "```\n",
    "      (t+1)*K-1\n",
    "AEt =    max   s(k)\n",
    "        k=t*K\n",
    "```\n",
    "\n",
    "AEt: Amplitude Envelope at frame t <br>\n",
    "(t+1) * K-1: Last sample of frame t <br>\n",
    "k=t * K: first sample of frame t <br>\n",
    "s(k): Amplitude of kth sample <br >\n",
    "\n",
    "- Max amplitude value of all samples in a frame\n",
    "- Gives rough idea of loudness\n",
    "- Sensitive to outliers\n",
    "- Onset detection, music genre classification"
   ]
  },
  {
   "attachments": {},
   "cell_type": "markdown",
   "metadata": {},
   "source": [
    "### Time-Domain Features: Root-Mean-Square Energy\n",
    "\n",
    "- RMS of all samples in a frame\n",
    "\n",
    "```\n",
    "                     (t+1)*K-1\n",
    "RMSt = sqrt { 1/K *     sum   s(k)^2  }\n",
    "                       k=t*K\n",
    "```\n",
    "\n",
    "- Indicator of loudness\n",
    "- Less sensitive to outliers than AE\n",
    "- Audio segmentation, music genre classification\n"
   ]
  },
  {
   "attachments": {},
   "cell_type": "markdown",
   "metadata": {},
   "source": [
    "### Time-Domain Features: Zero-Crossing Rate (ZCR)\n",
    "\n",
    "- Number of times a signal crosses the horizontal axis\n",
    "\n",
    "```\n",
    "             (t+1)*K-1\n",
    "ZCRt = 1/2 *    sum    | sgn(s(k)) - sgn(s(k+1)) |\n",
    "               k=t*K\n",
    "\n",
    "Sign function (sgn):\n",
    "- s(k) > 0 => +1\n",
    "- s(k) < 0 => -1\n",
    "- s(k) = 0 => 0\n",
    "```\n",
    "\n",
    "- Recognition of percussive vs pitched sounds\n",
    "- Monophonic pitch estimation\n",
    "- Voice/unvoiced decision for speech signals"
   ]
  }
 ],
 "metadata": {
  "language_info": {
   "name": "python"
  },
  "orig_nbformat": 4
 },
 "nbformat": 4,
 "nbformat_minor": 2
}
