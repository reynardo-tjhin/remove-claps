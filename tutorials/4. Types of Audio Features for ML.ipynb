{
 "cells": [
  {
   "attachments": {},
   "cell_type": "markdown",
   "metadata": {},
   "source": [
    "### Audio Feature Categorisation\n",
    "\n",
    "- Level of abstraction\n",
    "- Temporal scope\n",
    "- Music aspect\n",
    "- Signal domain\n",
    "- ML approach\n",
    "\n",
    "#### Audio Feature: Level of Abstraction\n",
    "\n",
    "- High-level, examples: instrumentation, key, chords, melody, rhythm, tempo, lyrics, genre, mood\n",
    "- Mid-level, examples: pitch- and beat-related descriptors, such as note onsets, fluctuation patterns, MFCCs\n",
    "- Low-level, examples: amplitude envelope, energy, spectral centroid, spectral flux, zero-crossing rate\n",
    "\n",
    "#### Audio Feature: Temporal scope\n",
    "\n",
    "- Instantaneous (~50ms)\n",
    "- Segment-level (seconds)\n",
    "- Global\n",
    "\n",
    "#### Audio Feature: Music Aspect\n",
    "\n",
    "- Beat\n",
    "- Timbre\n",
    "- Pitch\n",
    "- Harmony, etc.\n",
    "\n",
    "#### Audio Feature: Signal Domain\n",
    "\n",
    "- Time domain, such as amplitude envelope, root-mean square energy, zero crossing rate\n",
    "- Frequency domain, such as band energy ratio, spectral centroid, spectral flux\n",
    "- Time-frequency representation, such as spectrogram, mel-spectrogram, constant-Q transform\n",
    "\n",
    "#### Audio Feature: Machine Learning Approach\n",
    "\n",
    "- Traditional Machine Learning\n",
    "- Deep Learning\n",
    "\n",
    "For traditional machine learning, \n",
    "1. we use features like\n",
    "amplitude envelope, root-mean square energy, zero crossing rate, band energy ratio, spectral centroid,\n",
    "spectral flux, spectral spread, spectral roll-off, etc.\n",
    "2. We then pick the audio features and feed into traditional ML algorithm.\n",
    "\n",
    "For Deep Learning,\n",
    "Pass the whole images, like us mel-spectrogram, spectrogram, etc."
   ]
  }
 ],
 "metadata": {
  "language_info": {
   "name": "python"
  },
  "orig_nbformat": 4
 },
 "nbformat": 4,
 "nbformat_minor": 2
}
