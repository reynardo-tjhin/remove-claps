{
 "cells": [
  {
   "attachments": {},
   "cell_type": "markdown",
   "metadata": {},
   "source": [
    "### Sound\n",
    "- Produced by vibration of an object\n",
    "- Vibrations cause air molecules to oscillate\n",
    "- Change in air pressure creates a wave"
   ]
  },
  {
   "attachments": {},
   "cell_type": "markdown",
   "metadata": {},
   "source": [
    "### Mechanical Wave\n",
    "\n",
    "- Oscillation that travels through space\n",
    "- Energy travels from one point to another\n",
    "- The medium is deformed"
   ]
  },
  {
   "attachments": {},
   "cell_type": "markdown",
   "metadata": {},
   "source": [
    "### Waveform\n",
    "\n",
    "- Carries multifactorial information: frequency, intensity and timbre\n",
    "\n",
    "All waveforms can be divided into: Periodic (regular) and Aperiodic (non-regular)\n",
    "- Periodic waveform has simple (single sinewaves) and complex (multiple sinewaves)\n",
    "- Aperiodic waveform has continuous (noise) and transient (pulse)\n",
    "\n",
    "Equation of a waveform (sin-wave)\n",
    "\n",
    "y(t) = A sin(2 * pi * f * t + phase) <br>\n",
    "A: amplitude <br>\n",
    "f: frequency <br>\n",
    "t: time <br>\n",
    "phase: shifts the waveform (to the right or to the left)"
   ]
  },
  {
   "attachments": {},
   "cell_type": "markdown",
   "metadata": {},
   "source": [
    "### Pitch\n",
    "\n",
    "- (Sort of like: used to imagine frequency, higher pitch <=> higher frequency)\n",
    "- Logarithmic perception\n",
    "- 2 frequencies are perceived similarly if they differ by a power of 2\n",
    "- Frequency (x-axis) and Pitch (y-axis) have a logarithmic relationship\n",
    "\n",
    "#### Mapping pitch to frequency\n",
    "\n",
    "F(p) = 2 ^ [(p - 69)/12] * 440\n"
   ]
  },
  {
   "attachments": {},
   "cell_type": "markdown",
   "metadata": {},
   "source": [
    "### Cents\n",
    "\n",
    "- Octave divided in 1200 cents\n",
    "- 100 cents in a semitone\n",
    "- Noticeable pitch difference: 10-25 cents"
   ]
  }
 ],
 "metadata": {
  "language_info": {
   "name": "python"
  },
  "orig_nbformat": 4
 },
 "nbformat": 4,
 "nbformat_minor": 2
}
