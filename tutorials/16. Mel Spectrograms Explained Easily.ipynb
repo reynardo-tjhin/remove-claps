{
 "cells": [
  {
   "cell_type": "markdown",
   "metadata": {},
   "source": [
    "### Mel Spectrograms\n",
    "\n",
    "- Humans perceive frequency logarithmically\n",
    "\n",
    "### Ideal audio feature\n",
    "\n",
    "- Time-frequency representation\n",
    "- Perceptually-relevant amplitude representation\n",
    "- Perceptually-relevant frequency representation\n",
    "\n",
    "### Mel Scale\n",
    "\n",
    "- Logarithmic Scale\n",
    "- Equal distances on the scale have same \"perceptual\" distance\n",
    "- 1000 Hz = 1000 Mel\n",
    "\n",
    "```\n",
    "m = 2595 * log(1 + f/500)\n",
    "\n",
    "f = 700(10^m/2595 - 1)\n",
    "```\n",
    "\n",
    "![Mel Scale](./images/Mel%20Scale.png)\n",
    "\n",
    "### Recipe to Extract Mel Spectrogram\n",
    "\n",
    "1. Extract Short-Time Fourier Transform\n",
    "2. Convert amplitude to DBs\n",
    "3. Convert frequencies to Mel Scale\n",
    "\n",
    "### Convert Frequencies to Mel Scale\n",
    "\n",
    "1. Choose number of mel bands\n",
    "2. Construct mel filter banks\n",
    "    1. Convert lowest / highest frequency to Mel\n",
    "    <br>\n",
    "    ```\n",
    "    m = 2595 * log(1 + f/500)\n",
    "    ```\n",
    "    2. Create a number of bands equally spaced points\n",
    "    3. Convert points back to Hertz\n",
    "    <br>\n",
    "    ```\n",
    "    f = 700(10^m/2595 - 1)\n",
    "    ```\n",
    "    4. Round to nearest frequency bin\n",
    "    5. Create Triangular filters\n",
    "    ![Mel Filter Banks](./images/Mel%20Filter%20Banks.png)\n",
    "3. Apply mel filter banks to spectrogram\n",
    "\n",
    "\n"
   ]
  }
 ],
 "metadata": {
  "language_info": {
   "name": "python"
  },
  "orig_nbformat": 4
 },
 "nbformat": 4,
 "nbformat_minor": 2
}
