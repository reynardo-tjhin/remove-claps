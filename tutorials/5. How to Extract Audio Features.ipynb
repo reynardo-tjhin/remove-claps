{
 "cells": [
  {
   "attachments": {},
   "cell_type": "markdown",
   "metadata": {},
   "source": [
    "### Time-domain Feature Pipleline\n",
    "\n",
    "1. Analogue to Digital Conversion (Converting analogue audio to digital audio)\n",
    "2. Framing\n",
    "3. Feature Computation\n",
    "4. Aggregation (mean, median, GMM)\n",
    "5. Feature Value / Vector / Matrix\n",
    "\n",
    "#### Frames\n",
    "\n",
    "- Perceivable audio chunk (*Human Hearing time resolution: ~10ms )\n",
    "- Power of 2 number of samples (applying Fourier transform, power of 2 increases the speed of transformation)\n",
    "- Typical values: 256 - 8192\n",
    "\n",
    "duration of frame = (1 / sample rate) * K\n",
    "K: frame size\n",
    "\n",
    "\n",
    "### Frequency-Domain Feature Pipeline\n",
    "\n",
    "1. Analogue to Digital Conversion\n",
    "2. Framing\n",
    "3. Apply Fourier transform (from time-domain to frequency-domain)\n",
    "<br> Main issue: spectral leakage\n",
    "<br> - Processed signal is not an integer number of periods\n",
    "<br> - Endpoints are discontinuous\n",
    "<br> - Discontinuities appear as high-frequency components not present in the original signal\n",
    "\n",
    "4. Windowing (used to solve spectral leakage problem)\n",
    "<br> - Apply windowing function to each frame\n",
    "<br> - Eliminates samples at both ends of a frame\n",
    "<br> - Generates a periodic signal\n",
    "\n",
    "5. Overlapping frames (to avoid lost signal)\n",
    "<br> - hop length refers to the time interval between successive frames or windows of audio data that are processed during a signal processing task.\n",
    "\n",
    "6. Feature Computation\n",
    "7. Aggregation (mean, median, GMM)\n",
    "8. Feature Value / Vector / Matrix"
   ]
  }
 ],
 "metadata": {
  "language_info": {
   "name": "python"
  },
  "orig_nbformat": 4
 },
 "nbformat": 4,
 "nbformat_minor": 2
}
