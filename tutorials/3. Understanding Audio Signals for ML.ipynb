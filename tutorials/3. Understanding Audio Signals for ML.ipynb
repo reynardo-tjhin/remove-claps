{
 "cells": [
  {
   "attachments": {},
   "cell_type": "markdown",
   "metadata": {},
   "source": [
    "### Analog Signal\n",
    "\n",
    "- Continuous values for time\n",
    "- Continuous values for amplitude\n",
    "\n",
    "### Digital Signal\n",
    "\n",
    "- Sequence of discrete values\n",
    "- Data points can only take on a finite number of values\n",
    "\n",
    "### Analog to Digital Conversion (ADC)\n",
    "\n",
    "Steps:\n",
    "1. Sampling (sampling rate)\n",
    "2. Quantization\n",
    "\n",
    "Result: Audio Digital Signal (or Audio Signal)\n",
    "<br>Also called **Pulse-code mudulation**"
   ]
  }
 ],
 "metadata": {
  "language_info": {
   "name": "python"
  },
  "orig_nbformat": 4
 },
 "nbformat": 4,
 "nbformat_minor": 2
}
