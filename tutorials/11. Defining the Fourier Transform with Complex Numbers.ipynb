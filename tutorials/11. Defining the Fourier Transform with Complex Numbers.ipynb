{
 "cells": [
  {
   "cell_type": "markdown",
   "metadata": {},
   "source": [
    "### The intuition\n",
    "\n",
    "- Use magnitude and phase as polar coordinates\n",
    "- Encode both coefficients in a single complex number"
   ]
  },
  {
   "cell_type": "markdown",
   "metadata": {},
   "source": [
    "### Complex Fourier Transform Coefficients\n",
    "\n",
    "![Complex Fourier Transform Coefficients](./images/Complex%20Fourier%20Transform%20Coefficients.png)"
   ]
  },
  {
   "cell_type": "code",
   "execution_count": null,
   "metadata": {},
   "outputs": [],
   "source": []
  }
 ],
 "metadata": {
  "language_info": {
   "name": "python"
  },
  "orig_nbformat": 4
 },
 "nbformat": 4,
 "nbformat_minor": 2
}
