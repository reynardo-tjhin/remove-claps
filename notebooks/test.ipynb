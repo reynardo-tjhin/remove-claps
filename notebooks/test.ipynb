{
 "cells": [
  {
   "cell_type": "code",
   "execution_count": 168,
   "metadata": {},
   "outputs": [],
   "source": [
    "from sklearn.model_selection import StratifiedKFold\n",
    "from sklearn.svm import SVC\n",
    "from sklearn.preprocessing import StandardScaler\n",
    "from sklearn.preprocessing import LabelEncoder\n",
    "from sklearn.metrics import accuracy_score\n",
    "from sklearn.ensemble import RandomForestClassifier\n",
    "import pandas as pd\n",
    "import numpy as np\n",
    "import pickle"
   ]
  },
  {
   "cell_type": "markdown",
   "metadata": {},
   "source": [
    "### 10-Fold Stratified Cross-Validation"
   ]
  },
  {
   "cell_type": "code",
   "execution_count": 169,
   "metadata": {},
   "outputs": [
    {
     "name": "stdout",
     "output_type": "stream",
     "text": [
      "Training: 100.00% with standard deviation of 0.00%\n",
      "Test:     98.83% with standard deviation of 0.67%\n"
     ]
    }
   ],
   "source": [
    "data = pd.read_csv(\"../data/data.csv\")\n",
    "X = data.iloc[:, 1:-1].values\n",
    "y = data.iloc[:, -1].values\n",
    "\n",
    "le = LabelEncoder()\n",
    "y = le.fit_transform(y)\n",
    "\n",
    "sc = StandardScaler()\n",
    "X = sc.fit_transform(X)\n",
    "\n",
    "# Stratified 10-Fold Cross Validation\n",
    "skf = StratifiedKFold(n_splits=10)\n",
    "\n",
    "# model\n",
    "# clf = SVC(kernel='linear', C=1, random_state=42)\n",
    "rmf = RandomForestClassifier()\n",
    "\n",
    "i = 0\n",
    "train_scores = np.zeros((1,10))\n",
    "test_scores = np.zeros((1,10))\n",
    "for train_index, test_index, in skf.split(X, y):\n",
    "    X_train, X_test = X[train_index], X[test_index]\n",
    "    y_train, y_test = y[train_index], y[test_index]\n",
    "\n",
    "    # train the model\n",
    "    rmf.fit(X_train, y_train)\n",
    "\n",
    "    y_train_predicted = rmf.predict(X_train)\n",
    "    y_test_predicted = rmf.predict(X_test)\n",
    "\n",
    "    train_scores[0][i] = accuracy_score(y_train, y_train_predicted) * 100\n",
    "    test_scores[0][i] = accuracy_score(y_test, y_test_predicted) * 100\n",
    "    i += 1\n",
    "\n",
    "print(\"Training: %.2f%% with standard deviation of %.2f%%\" % (train_scores.mean(), train_scores.std()))\n",
    "print(\"Test:     %.2f%% with standard deviation of %.2f%%\" % (test_scores.mean(), test_scores.std()))\n",
    "# with open(\"../models/svc.pickle\", \"wb\") as f:\n",
    "#     pickle.dump(clf, f)\n"
   ]
  }
 ],
 "metadata": {
  "kernelspec": {
   "display_name": "Python 3",
   "language": "python",
   "name": "python3"
  },
  "language_info": {
   "codemirror_mode": {
    "name": "ipython",
    "version": 3
   },
   "file_extension": ".py",
   "mimetype": "text/x-python",
   "name": "python",
   "nbconvert_exporter": "python",
   "pygments_lexer": "ipython3",
   "version": "3.8.10"
  },
  "orig_nbformat": 4
 },
 "nbformat": 4,
 "nbformat_minor": 2
}
