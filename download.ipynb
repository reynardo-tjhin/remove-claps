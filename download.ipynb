{
 "cells": [
  {
   "cell_type": "markdown",
   "metadata": {},
   "source": [
    "### Import Libraries"
   ]
  },
  {
   "cell_type": "code",
   "execution_count": 1,
   "metadata": {},
   "outputs": [],
   "source": [
    "from pytube import YouTube"
   ]
  },
  {
   "cell_type": "markdown",
   "metadata": {},
   "source": [
    "### Get the file"
   ]
  },
  {
   "cell_type": "code",
   "execution_count": 28,
   "metadata": {},
   "outputs": [
    {
     "name": "stdout",
     "output_type": "stream",
     "text": [
      "David Oistrakh - Brahms Violin Concerto in D Major, Op. 77\n",
      "<Stream: itag=\"140\" mime_type=\"audio/mp4\" abr=\"128kbps\" acodec=\"mp4a.40.2\" progressive=\"False\" type=\"audio\">\n"
     ]
    },
    {
     "data": {
      "text/plain": [
       "'/home/reynardo/PROGRAMMING/remove-claps/David Oistrakh - Brahms Violin Concerto in D Major Op 77.mp4'"
      ]
     },
     "execution_count": 28,
     "metadata": {},
     "output_type": "execute_result"
    }
   ],
   "source": [
    "yt_link = 'https://www.youtube.com/watch?v=RFkSiNp4CRQ'\n",
    "\n",
    "yt = YouTube(yt_link)\n",
    "\n",
    "print(yt.title)\n",
    "for audio_only_stream in yt.streams.filter(only_audio=True).filter(mime_type=\"audio/mp4\").filter(abr=\"128kbps\"):\n",
    "    print(audio_only_stream)\n",
    "\n",
    "stream = yt.streams.get_by_itag(140)\n",
    "stream.download()"
   ]
  }
 ],
 "metadata": {
  "kernelspec": {
   "display_name": "Python 3",
   "language": "python",
   "name": "python3"
  },
  "language_info": {
   "codemirror_mode": {
    "name": "ipython",
    "version": 3
   },
   "file_extension": ".py",
   "mimetype": "text/x-python",
   "name": "python",
   "nbconvert_exporter": "python",
   "pygments_lexer": "ipython3",
   "version": "3.8.10"
  },
  "orig_nbformat": 4
 },
 "nbformat": 4,
 "nbformat_minor": 2
}
